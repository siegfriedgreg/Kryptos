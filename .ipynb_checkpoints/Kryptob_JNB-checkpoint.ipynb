{
 "cells": [
  {
   "cell_type": "code",
   "execution_count": 34,
   "id": "b45697d4",
   "metadata": {},
   "outputs": [],
   "source": [
    "\n",
    "'''\n",
    "\n",
    "Encrypt K3:\n",
    "\n",
    "A) ANS[8x42]    create 8 row 42 col matrix from string;\n",
    "B) ANS[42x8]    rotate right 90;\n",
    "C) ANS[24x14]   create 24 row 14 col matrix;\n",
    "D) ANS[14X24]   rotate right 90;\n",
    "\n",
    "4) KEY[14x24]   create 14 row 24 col matrix from string;\n",
    "3) KEY[24x14]   rotate left 90;\n",
    "2) KEY[42x8]    create 42 row 8 col matrix;\n",
    "1) KEY[8x42]    rotate left 90\n",
    "\n",
    "'''\n",
    "\n",
    "\n",
    "\n",
    "import pandas as pd\n",
    "import numpy as np\n",
    "import itertools as ittls\n",
    "\n",
    "class Krux:\n",
    "    \n",
    "    def __init__(self):\n",
    "        # K_1 = 62\n",
    "        self.k_1 = \"EMUFPHZLRFAXYUSDJKZLDKRNSHGNFIVJYQTQUXQBQVYUVLLTREVJYQTMKYRDMF\"\n",
    "        # K_2 = 373\n",
    "        self.k_2 = \"DVFPJUDEEHZWETZYVGWHKKQETGFQJNCEGGWHKK?DQMCPFQZDQMMIAGPFXHQRLGTIMVMZJANQLVKQEDAGDVFRPJUNGEUNAQZGZLECGYUXUEENJTBJLBQCRTBJDFHRRYIZETKZEMVDUFKSJHKFWHKUWQLSZFTIHHDDDUVH?DWKBFUFPWNTDFIYCUQZEREEVLDKFEZMOQQJLTTUGSYQPFEUNLAVIDXFLGGTEZ?FKZBSFDQVGOGIPUFXHHDRKFFHQNTGPUAECNUVPDJMQCLQUMUNEDFQELZZVRRGKFFVOEEXBDMVPNFQXEZLGREDNQFMPNZGLFLPMRJQYALMGNUVPDXVKPDQUMEBEDMHDAFMJGZNUPLGEWJLLAETG\"\n",
    "        # K_3 = 337\n",
    "        self.k_3 = \"ENDYAHROHNLSRHEOCPTEOIBIDYSHNAIACHTNREYULDSLLSLLNOHSNOSMRWXMNETPRNGATIHNRARPESLNNELEBLPIIACAEWMTWNDITEENRAHCTENEUDRETNHAEOETFOLSEDTIWENHAEIOYTEYQHEENCTAYCREIFTBRSPAMHHEWENATAMATEGYEERLBTEEFOASFIOTUETUAEOTOARMAEERTNRTIBSEDDNIAAHTTMSTEWPIEROAGRIEWFEBAECTDDHILCEIHSITEGOEAOSDDRYDLORITRKLMLEHAGTDHARDPNEOHMGFMFEUHEECDMRIPFEIMEHNLSSTTRTVDOHW\"\n",
    "        # K_4 = 97\n",
    "        self.k_4 = \"OBKRUOXOGHULBSOLIFBBWFLRVQQPRNGKSSOTWTQSJQSSEKZZWATJKLUDIAWINFBNYPVTTMZFPKWGDKZXTJCDIGKUHUAUEKCAR\"\n",
    "        self.k_5 = \"\"\n",
    "        self.kalpha = \"KRYPTOSABCDEFGHIJLMNQUVWXZ\"\n",
    "        self.alpha = \"ABCDEFGHIJKLMNOPQRSTUVWXYZ\"\n",
    "        self.pk_1 = \"PALIMPSEST\" # 10 Count Word\n",
    "        self.pk_2 = \"ABSCISSA\" # 8 Count Word\n",
    "        self.pk_3 = \"SLOWLY \\nDESPARATLY SLOWLY \\nTHE REMAINS OF PASSAGE DEBRIS THAT ENCUMBERED THE LOWER PART OF THE DOORWAY WAS REMOVED \\nWITH TREMBLING HANDS I MADE A TINY BREACH IN THE UPPER LEFT HAND CORNER \\nAND THEN WIDENING THE HOLE A LITTLE I INSERTED THE CANDLE AND PEERED IN \\nTHE HOT AIR ESCAPING FROM THE CHAMBER CAUSED THE FLAME TO FLICKER \\nBUT PRESENTLY DETAILS OF THE ROOM WITHIN EMERGED FROM THE MIST \\nX CAN YOU SEE ANYTHING Q?\" # A Series of Transformations\n",
    "        self.pk_4a = \"EASTNORTHEAST\" # 22<=34\n",
    "        self.pk_4b = \"BERLINCLOCK\" # 64<=74\n",
    "    \n",
    "    def step_1(self):\n",
    "        \n",
    "        return np.array(list(self.k_3)).reshape(14,24)\n",
    "    \n",
    "    def step_2(self, args):\n",
    "        \n",
    "        return np.rot90(args, k=1)\n",
    "    \n",
    "    def step_3(self, args):\n",
    "        \n",
    "        return np.array(args).reshape(42,8)\n",
    "\n",
    "\n"
   ]
  },
  {
   "cell_type": "code",
   "execution_count": 54,
   "id": "ce9276d3",
   "metadata": {},
   "outputs": [
    {
     "name": "stdout",
     "output_type": "stream",
     "text": [
      "SLOWLY \n",
      "DESPARATLY SLOWLY \n",
      "THE REMAINS OF PASSAGE DEBRIS THAT ENCUMBERED THE LOWER PART OF THE DOORWAY WAS REMOVED \n",
      "WITH TREMBLING HANDS I MADE A TINY BREACH IN THE UPPER LEFT HAND CORNER \n",
      "AND THEN WIDENING THE HOLE A LITTLE I INSERTED THE CANDLE AND PEERED IN \n",
      "THE HOT AIR ESCAPING FROM THE CHAMBER CAUSED THE FLAME TO FLICKER \n",
      "BUT PRESENTLY DETAILS OF THE ROOM WITHIN EMERGED FROM THE MIST \n",
      "X CAN YOU SEE ANYTHING Q?\n",
      "\n",
      " \n",
      "\n",
      "['S' 'L' 'O' 'W' 'L' 'Y']\n"
     ]
    }
   ],
   "source": [
    "me = Krux()\n",
    "crux = \"\"\n",
    "\n",
    "#  4) KEY[14x24]   create 14 row 24 col matrix from string;\n",
    "ans = me.step_1()\n",
    "#  3) KEY[24x14]   rotate left 90;\n",
    "ans = me.step_2(ans)\n",
    "#  2) KEY[42x8]    create 42 row 8 col matrix;\n",
    "ans = me.step_3(ans)\n",
    "#  1) KEY[8x42]    rotate left 90\n",
    "ans = me.step_2(ans)\n",
    "\n",
    "crux = ans.flatten()\n",
    "\n",
    "print(me.pk_3)\n",
    "\n",
    "print(\"\\n \\n\")\n",
    "\n",
    "print(crux[0:6])"
   ]
  },
  {
   "cell_type": "code",
   "execution_count": null,
   "id": "9c1eb6f2",
   "metadata": {},
   "outputs": [],
   "source": []
  },
  {
   "cell_type": "code",
   "execution_count": null,
   "id": "e41750fa",
   "metadata": {},
   "outputs": [],
   "source": []
  },
  {
   "cell_type": "code",
   "execution_count": null,
   "id": "9e096ae2",
   "metadata": {},
   "outputs": [],
   "source": []
  },
  {
   "cell_type": "code",
   "execution_count": null,
   "id": "d67dd88b",
   "metadata": {},
   "outputs": [],
   "source": []
  },
  {
   "cell_type": "code",
   "execution_count": null,
   "id": "0b3be8b6",
   "metadata": {},
   "outputs": [],
   "source": []
  }
 ],
 "metadata": {
  "kernelspec": {
   "display_name": "Python 3 (ipykernel)",
   "language": "python",
   "name": "python3"
  },
  "language_info": {
   "codemirror_mode": {
    "name": "ipython",
    "version": 3
   },
   "file_extension": ".py",
   "mimetype": "text/x-python",
   "name": "python",
   "nbconvert_exporter": "python",
   "pygments_lexer": "ipython3",
   "version": "3.8.8"
  }
 },
 "nbformat": 4,
 "nbformat_minor": 5
}
