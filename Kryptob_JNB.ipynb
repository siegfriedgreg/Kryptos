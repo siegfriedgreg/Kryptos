{
 "cells": [
  {
   "cell_type": "code",
   "execution_count": 19,
   "id": "b45697d4",
   "metadata": {},
   "outputs": [
    {
     "name": "stdout",
     "output_type": "stream",
     "text": [
      "EMUFPHZLRFAXYUSDJKZLDKRNSHGNFIVJYQTQUXQBQVYUVLLTREVJYQTMKYRDMF\n"
     ]
    }
   ],
   "source": [
    "\n",
    "'''\n",
    "\n",
    "Kryptos Solving Board \n",
    "\n",
    "\n",
    "'''\n",
    "\n",
    "import pandas as pd\n",
    "import numpy as np\n",
    "\n",
    "class Krux:\n",
    "    \n",
    "    def __init__(self):\n",
    "        # K_1 = 62\n",
    "        self.k_1 = \"EMUFPHZLRFAXYUSDJKZLDKRNSHGNFIVJYQTQUXQBQVYUVLLTREVJYQTMKYRDMF\"\n",
    "        # K_2 = 373\n",
    "        self.k_2 = \"DVFPJUDEEHZWETZYVGWHKKQETGFQJNCEGGWHKK?DQMCPFQZDQMMIAGPFXHQRLGTIMVMZJANQLVKQEDAGDVFRPJUNGEUNAQZGZLECGYUXUEENJTBJLBQCRTBJDFHRRYIZETKZEMVDUFKSJHKFWHKUWQLSZFTIHHDDDUVH?DWKBFUFPWNTDFIYCUQZEREEVLDKFEZMOQQJLTTUGSYQPFEUNLAVIDXFLGGTEZ?FKZBSFDQVGOGIPUFXHHDRKFFHQNTGPUAECNUVPDJMQCLQUMUNEDFQELZZVRRGKFFVOEEXBDMVPNFQXEZLGREDNQFMPNZGLFLPMRJQYALMGNUVPDXVKPDQUMEBEDMHDAFMJGZNUPLGEWJLLAETG\"\n",
    "        # K_3 = 337\n",
    "        self.k_3 = \"ENDYAHROHNLSRHEOCPTEOIBIDYSHNAIACHTNREYULDSLLSLLNOHSNOSMRWXMNETPRNGATIHNRARPESLNNELEBLPIIACAEWMTWNDITEENRAHCTENEUDRETNHAEOETFOLSEDTIWENHAEIOYTEYQHEENCTAYCREIFTBRSPAMHHEWENATAMATEGYEERLBTEEFOASFIOTUETUAEOTOARMAEERTNRTIBSEDDNIAAHTTMSTEWPIEROAGRIEWFEBAECTDDHILCEIHSITEGOEAOSDDRYDLORITRKLMLEHAGTDHARDPNEOHMGFMFEUHEECDMRIPFEIMEHNLSSTTRTVDOHW?\"\n",
    "        # K_4 = 97\n",
    "        self.k_4 = \"OBKRUOXOGHULBSOLIFBBWFLRVQQPRNGKSSOTWTQSJQSSEKZZWATJKLUDIAWINFBNYPVTTMZFPKWGDKZXTJCDIGKUHUAUEKCAR\"\n",
    "        self.k_5 = \"\"\n",
    "        self.kalpha = \"KRYPTOSABCDEFGHIJLMNQUVWXZ\"\n",
    "        self.alpha = \"ABCDEFGHIJKLMNOPQRSTUVWXYZ\"\n",
    "        self.pk_one = \"PALIMPSEST\" # 10 Count Word\n",
    "        self.pk_two = \"ABSCISSA\" # 8 Count Word\n",
    "        self.pk_three = \"\" # A Series of Transformations\n",
    "        self.pk_4a = \"EASTNORTHEAST\" # 22<=34\n",
    "        self.pk_4b = \"BERLINCLOCK\" # 64<=74\n",
    "\n",
    "    def \n",
    "\n",
    "\n",
    "me = Krux()\n",
    "print(me.k_1)"
   ]
  },
  {
   "cell_type": "code",
   "execution_count": 53,
   "id": "ce9276d3",
   "metadata": {},
   "outputs": [],
   "source": [
    "ka_lst = list(me.kalpha)\n",
    "vig_cip = np.array((26,26))"
   ]
  },
  {
   "cell_type": "code",
   "execution_count": 54,
   "id": "9c1eb6f2",
   "metadata": {},
   "outputs": [
    {
     "name": "stdout",
     "output_type": "stream",
     "text": [
      "K\n",
      "R\n",
      "Y\n",
      "P\n",
      "T\n",
      "O\n",
      "S\n",
      "A\n",
      "B\n",
      "C\n",
      "D\n",
      "E\n",
      "F\n",
      "G\n",
      "H\n",
      "I\n",
      "J\n",
      "L\n",
      "M\n",
      "N\n",
      "Q\n",
      "U\n",
      "V\n",
      "W\n",
      "X\n",
      "Z\n"
     ]
    }
   ],
   "source": [
    "for char in ka_lst:\n",
    "    print(char)"
   ]
  },
  {
   "cell_type": "code",
   "execution_count": null,
   "id": "e41750fa",
   "metadata": {},
   "outputs": [],
   "source": []
  },
  {
   "cell_type": "code",
   "execution_count": null,
   "id": "9e096ae2",
   "metadata": {},
   "outputs": [],
   "source": []
  }
 ],
 "metadata": {
  "kernelspec": {
   "display_name": "Python 3",
   "language": "python",
   "name": "python3"
  },
  "language_info": {
   "codemirror_mode": {
    "name": "ipython",
    "version": 3
   },
   "file_extension": ".py",
   "mimetype": "text/x-python",
   "name": "python",
   "nbconvert_exporter": "python",
   "pygments_lexer": "ipython3",
   "version": "3.8.8"
  }
 },
 "nbformat": 4,
 "nbformat_minor": 5
}
